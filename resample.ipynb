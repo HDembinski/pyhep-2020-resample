{
 "cells": [
  {
   "cell_type": "markdown",
   "metadata": {},
   "source": [
    "# resample: bootstrap and jackknife resampling in Python\n",
    "\n",
    "- Hans Dembinski, TU Dortmund, contributor & presenter\n",
    "- Daniel Saxton @dsaxton, creator of *resample* module in Python\n",
    "\n",
    "PyPI          | https://pypi.org/project/resample\n",
    "--------------|:----------------------------------\n",
    "Code          | https://github.com/dsaxton/resample\n",
    "Documentation | https://resample.readthedocs.io\n",
    "\n",
    "**Disclaimer:** Shown here is a not-yet-released development version of `resample` (prototype for version 1.0).\n",
    "\n",
    "**References**\n",
    "* Efron & Tibshirani (1993), *An Introduction to the Bootstrap*, Chapman & Hall/CRC, ISBN 0-412-04231-2\n",
    "* Bradley Efron (1979), *Bootstrap methods: Another look at the jackknife*, Annals of Statistics 7: 1–26. doi:10.1214/aos/1176344552.\n",
    "* [Jackknife on Wikipedia](https://en.wikipedia.org/wiki/Jackknife_resampling)\n",
    "* [Empirical distribution function on Wikipedia](https://en.wikipedia.org/wiki/Empirical_distribution_function)"
   ]
  },
  {
   "cell_type": "code",
   "execution_count": 1,
   "metadata": {},
   "outputs": [],
   "source": [
    "import numpy as np\n",
    "import resample\n",
    "import matplotlib.pyplot as plt"
   ]
  },
  {
   "cell_type": "markdown",
   "metadata": {},
   "source": [
    "## Introduction\n",
    "\n",
    "* Resampling methods are general purpose tools to obtain standard deviations, biases, confidence intervals of statistical estimates, hypothesis testing\n",
    "    * Jackknife\n",
    "        - Developed by Maurice Quenouille in 1950ies\n",
    "        - Expanded and popularized by John Tukey 1958\n",
    "        - Deterministic\n",
    "    * Bootstrap\n",
    "        - Developed by Bradley Efron in 1979\n",
    "        - Non-deterministic (uses random sampling)\n",
    "\n",
    "### Pros\n",
    "* Easy to use: same formulas for large classes of problems\n",
    "* Wide applicability and particularly suited for HEP\n",
    "* Theoretically well understood, various proven properties\n",
    "* Works with arbitrarily complex estimators (median, resampling itself, ...)\n",
    "* No parametric model of data required (but can be used to improve accuracy)\n",
    "* Avoids case-dependent mathematical treatment (silver bullet!)\n",
    "* Avoids approximations only valid in asymptotic limit\n",
    "* Computation perfect for parallelization\n",
    "\n",
    "### Cons\n",
    "* Computationally expensive: requires 100 to 1000 applications of the original estimator\n",
    "    * Trades computation time against developer time (we usually consider that good)\n",
    "    * Not well suited for unbinned analyses with millions of data points (but data can be binned)\n",
    "* Need to be able to split data into independent and identically distributed (*i.i.d.*) observations\n",
    "    - Time series cannot be handled naturally (but approximations exist)\n",
    "    - Applications in HEP may require some care (e.g. resampling whole events instead of tracks)\n",
    "\n",
    "## Definitions\n",
    "\n",
    "Symbol        | Description\n",
    "------------- | :-----------\n",
    "$F$           | Cumulative density function \n",
    "$\\mathbf x$   | Sample of observations\n",
    "$\\theta$      | Parameter of interest of distribution\n",
    "$\\hat \\theta$ | Estimate of $\\theta$ from some sample $\\mathbf x$\n",
    "$s(\\mathbf x)$| Function which computes $\\hat\\theta$ from sample $\\mathbf x$ (can be any function implementable on a computer, e.g. a fit)"
   ]
  },
  {
   "cell_type": "markdown",
   "metadata": {},
   "source": [
    "## Jackknife\n",
    "\n",
    "* Compute estimate $\\hat\\theta = s(\\mathbf{x})$ from original sample\n",
    "* For all $i$: leave $i$-th observation out and apply $s$ on remaining sample $\\mathbf x_{(i)}$ to obtain estimate $\\hat \\theta_{(i)}$\n"
   ]
  },
  {
   "cell_type": "code",
   "execution_count": 2,
   "metadata": {},
   "outputs": [
    {
     "data": {
      "image/png": "[encoded data removed]",
      "text/plain": [
       "<Figure size 432x288 with 1 Axes>"
      ]
     },
     "metadata": {
      "needs_background": "light"
     },
     "output_type": "display_data"
    }
   ],
   "source": [
    "data = np.arange(1, 6)\n",
    "\n",
    "plt.plot(data, np.zeros_like(data), \"o\", ms=10)\n",
    "plt.plot(np.mean(data), 0, \"+k\", ms=20)\n",
    "\n",
    "for i, jd in enumerate(resample.jackknife.resample(data)):\n",
    "    plt.plot(jd, -i - 1 + np.zeros_like(jd), \"s\", ms=10, color=\"C1\")\n",
    "    plt.plot(np.mean(jd), -i - 1, \"+k\", ms=20)\n",
    "\n",
    "plt.yticks(-np.arange(0, 6), [\"original sample\"] + [f\"jackknife sample {i}\" for i in range(1, 6)]);"
   ]
  },
  {
   "cell_type": "markdown",
   "metadata": {},
   "source": [
    "Bias and variance of $\\hat\\theta$ can be computed from $\\hat\\theta_{(i)}$, using this definition\n",
    "$$\n",
    "\\hat \\theta_{(.)} \\equiv \\langle \\hat\\theta_{(i)} \\rangle = \\frac{1}{n} \\sum_i \\hat \\theta_{(i)}\n",
    "$$\n",
    "we get\n",
    "* jackknife bias\n",
    "  $$\n",
    "  \\widehat{\\text{bias}}_{\\hat \\theta} = (n - 1) (\\hat\\theta_{(.)} - \\hat \\theta)\n",
    "  $$\n",
    "\n",
    "* jackknife variance\n",
    "  $$\n",
    "  \\widehat{\\text{var}}_{\\hat \\theta} = \\frac{(n-1)}{n} \\sum_i \\big(\\hat\\theta_{(i)} - \\hat\\theta_{(.)}\\big)^2\n",
    "  $$\n",
    "  \n",
    "Let's try them on a three estimators."
   ]
  },
  {
   "cell_type": "code",
   "execution_count": 3,
   "metadata": {},
   "outputs": [
    {
     "name": "stdout",
     "output_type": "stream",
     "text": [
      "sample values\n",
      "  mean       = 1.038\n",
      "  median     = 0.687\n",
      "  var        = 1.541\n",
      "jacknifed biases\n",
      "  mean       = 0.000\n",
      "  median     = 0.000\n",
      "  var        = -0.016\n",
      "exact bias of var = -1/(n-1) * var = -0.016\n"
     ]
    }
   ],
   "source": [
    "rng = np.random.default_rng(1)\n",
    "\n",
    "n_sample = 100\n",
    "x = rng.exponential(size=n_sample)\n",
    "\n",
    "estimators = {\n",
    "    \"mean\": np.mean,\n",
    "    \"median\": np.median,\n",
    "    # intentionally use biased variance estimator\n",
    "    \"var\": lambda x : np.mean((x - np.mean(x)) ** 2)\n",
    "}\n",
    "\n",
    "print(\"sample values\")\n",
    "for name, est in estimators.items():\n",
    "    v = est(x)\n",
    "    print(f\"  {name:10} = {v:.3f}\") \n",
    "\n",
    "print(\"jacknifed biases\")\n",
    "for name, est in estimators.items():\n",
    "    v = resample.jackknife.bias(est, x)\n",
    "    print(f\"  {name:10} = {v:.3f}\")\n",
    "print(f\"exact bias of var = -1/(n-1) * var = {-1/(n_sample-1) * estimators['var'](x):.3f}\")"
   ]
  },
  {
   "cell_type": "markdown",
   "metadata": {},
   "source": [
    "* We used the naive variance estimator here:\n",
    "$$\n",
    "\\widehat{\\text{var}} = \\frac{1}{n} \\sum_i (x_i - \\bar x)^2\n",
    "$$\n",
    "\n",
    "* Bias-corrected variance estimator is known to be:\n",
    "$$\n",
    "\\widehat{\\text{var}}_{bc} = \\frac{1}{n-1} \\sum_i (x_i - \\bar x)^2\n",
    "$$\n",
    "\n",
    "* Exact bias is:\n",
    "$$\n",
    "\\widehat{\\text{var}} - \\widehat{\\text{var}}_{bc} = \\left(\\frac{1}{n} - \\frac{1}{n-1}\\right) n \\, \\widehat{\\text{var}} = \\left(\\frac{n-1}{n (n-1)} - \\frac{n}{n(n-1)}\\right) n \\, \\widehat{\\text{var}} = -\\frac{1}{n-1}\\widehat{\\text{var}}\n",
    "$$\n",
    "\n",
    "The jackknife has correctly estimated the bias for all three estimators to 3 digits.\n",
    "\n",
    "Let's see how well it does for variances."
   ]
  },
  {
   "cell_type": "code",
   "execution_count": 4,
   "metadata": {},
   "outputs": [
    {
     "name": "stdout",
     "output_type": "stream",
     "text": [
      "jackknife'd std. deviations of estimators\n",
      "  mean       = 0.125\n",
      "  median     = 0.013\n",
      "  var        = 0.615\n",
      "textbook std. deviation of mean   = 0.124\n",
      "textbook std. deviation of median = 0.101\n",
      "textbook std. deviation of var    = 0.606\n"
     ]
    }
   ],
   "source": [
    "def variance_of_mean(x):\n",
    "    n = len(x)\n",
    "    return np.var(x) / n\n",
    "\n",
    "def variance_of_variance(x):\n",
    "    # see e.g. https://math.stackexchange.com/questions/72975/variance-of-sample-variance\n",
    "    n = len(x)\n",
    "    u = np.mean(x)\n",
    "    s = np.std(x)\n",
    "    u4 = np.mean((x - u)**4)\n",
    "    return (u4 - s ** 4 * (n - 3) / (n - 1)) / n\n",
    "\n",
    "def variance_of_median(x):\n",
    "    # see https://en.wikipedia.org/wiki/Median, original derivation by Laplace\n",
    "    mu = np.mean(x)\n",
    "    m = np.median(x)\n",
    "    # value of exponential density for this sample at median\n",
    "    fm = 1/mu * np.exp(-m / mu)\n",
    "    n = len(x)\n",
    "    return 1/(4 * n * fm ** 2)\n",
    "\n",
    "print(\"jackknife'd std. deviations of estimators\")\n",
    "for name, est in estimators.items():\n",
    "    v = resample.jackknife.variance(est, x) ** 0.5\n",
    "    print(f\"  {name:10} = {v:.3f}\")\n",
    "\n",
    "print(f\"textbook std. deviation of mean   = {variance_of_mean(x) ** 0.5:.3f}\")\n",
    "print(f\"textbook std. deviation of median = {variance_of_median(x) ** 0.5:.3f}\")\n",
    "print(f\"textbook std. deviation of var    = {variance_of_variance(x) ** 0.5:.3f}\")"
   ]
  },
  {
   "cell_type": "markdown",
   "metadata": {},
   "source": [
    "The jackknife estimates are very good for the standard deviation of the mean and the variance, but not for the median.\n",
    "\n",
    "The underestimation for the median is a consequence of the lack of smoothness in the median, in the following sense: a small change in $x_i$ causes a small change in $\\hat \\theta = s(\\mathbf x)$. Taking one value out of the sample at a time sometimes creates zero variation in the estimator.\n"
   ]
  },
  {
   "cell_type": "code",
   "execution_count": 5,
   "metadata": {},
   "outputs": [
    {
     "data": {
      "image/png": "[encoded data removed]",
      "text/plain": [
       "<Figure size 432x288 with 1 Axes>"
      ]
     },
     "metadata": {
      "needs_background": "light"
     },
     "output_type": "display_data"
    }
   ],
   "source": [
    "rng = np.random.default_rng(2)\n",
    "\n",
    "data = np.arange(1, 6)\n",
    "\n",
    "plt.plot(data, np.zeros_like(data), \"o\", ms=10)\n",
    "plt.plot(np.median(data), 0, \"+k\", ms=20)\n",
    "\n",
    "for i, jd in enumerate(resample.jackknife.resample(data)):\n",
    "    plt.plot(jd, -i - 1 + np.zeros_like(jd), \"s\", ms=10, color=\"C1\")\n",
    "    plt.plot(np.median(jd), -i - 1, \"+k\", ms=20)\n",
    "\n",
    "plt.yticks(-np.arange(0, 6), [\"original sample\"] + [f\"jackknife sample {i}\" for i in range(1, 6)]);"
   ]
  },
  {
   "cell_type": "markdown",
   "metadata": {},
   "source": [
    "Prefer the bootstrap for estimating bias and variance of robust estimators like the median.\n",
    "\n",
    "**Note how easily results are obtained with the jackknife, which would require exotic formulas otherwise!**\n",
    "\n",
    "### Summary: Jackknife\n",
    "\n",
    "* Deterministic linear approximation to bootstrap\n",
    "* Small computational cost for small data sets ($n < 100$), bootstrap better for larger sets\n",
    "* Can be used to compute bias & variance of arbitrary \"smooth\" estimators\n",
    "* Good results even for small samples\n",
    "* Fails for \"non-smooth\" estimators\n",
    " * Example: median\n",
    " * Fixed in generalized jackknife which deletes $d>1$ points (not discussed here)"
   ]
  },
  {
   "cell_type": "markdown",
   "metadata": {},
   "source": [
    "## Bootstrap\n",
    "\n",
    "### Empirical CDF\n",
    "\n",
    "* If CDF $F$ was known, we could compute any finite sample properties of an estimator $s(\\mathbf x)$ by Monte-Carlo simulation\n",
    "    * Draw sample $\\mathbf x$ from $F$, compute $s(\\mathbf x)$, repeat\n",
    "    * Build full distribution of $\\hat \\theta$\n",
    "    * Compute bias, variance, confidence intervals, etc.\n",
    "* Observation: If nothing else is known about $F$, then sample $\\mathbf x$ contains all available information about $F$\n",
    "* Idea (plug-in principle)\n",
    "  * Replace $F$ by empirical CDF $\\hat F$\n",
    "  $$\n",
    "  \\hat F(x) = \\frac{\\text{number of elements in sample }\\le x}{n} = \\frac{1}{n} \\sum_i H(x - x_i) \\; \\text{ (Heaviside function)} \n",
    "  $$\n",
    "* Proven properties of $\\hat F$\n",
    "  * Maximum-likelihood estimate of $F$ in absence of other information\n",
    "  * Consistent: $\\lim_{n\\rightarrow \\infty}\\hat F = F$\n",
    "  * $\\hat F$ appoaches $F$ uniformly (stronger statement than consistency)"
   ]
  },
  {
   "cell_type": "code",
   "execution_count": 6,
   "metadata": {},
   "outputs": [
    {
     "data": {
      "image/png": "[encoded data removed]",
      "text/plain": [
       "<Figure size 1008x648 with 4 Axes>"
      ]
     },
     "metadata": {
      "needs_background": "light"
     },
     "output_type": "display_data"
    }
   ],
   "source": [
    "rng = np.random.default_rng(1)\n",
    "\n",
    "fig, ax = plt.subplots(2, 2, figsize=(14, 9), sharey=True)\n",
    "for n, axi in zip((5, 10, 100, 1000), ax.flat):\n",
    "    x = rng.exponential(size=n)\n",
    "\n",
    "    cdf = resample.empirical.cdf_fn(x)\n",
    "\n",
    "    def expon_cdf(x):\n",
    "        return 1 - np.exp(-x)\n",
    "    \n",
    "    plt.sca(axi)\n",
    "    plt.title(f\"n = {n}\")\n",
    "    xm = np.linspace(0, np.max(x), 10000)\n",
    "    plt.plot(xm, expon_cdf(xm), label=\"CDF\")\n",
    "    plt.plot(xm, resample.empirical.cdf_fn(x)(xm), drawstyle=\"steps\", label=\"empirical CDF\")\n",
    "    plt.legend(loc=\"lower right\");"
   ]
  },
  {
   "cell_type": "markdown",
   "metadata": {},
   "source": [
    "The empirical CDF approaches true CDF as number of samples increases.\n",
    "\n",
    "### Bootstrap: Sample from empirical CDF\n",
    "\n",
    "* Empirical CDF is an approximation to true CDf\n",
    "* Infer properties of $\\hat\\theta$ by sampling from $\\hat F$ (bootstrapping)\n",
    "* Equivalent to sampling from original data with replacement\n"
   ]
  },
  {
   "cell_type": "code",
   "execution_count": 7,
   "metadata": {},
   "outputs": [
    {
     "data": {
      "image/png": "[encoded data removed]",
      "text/plain": [
       "<Figure size 1152x576 with 2 Axes>"
      ]
     },
     "metadata": {
      "needs_background": "light"
     },
     "output_type": "display_data"
    }
   ],
   "source": [
    "rng = np.random.default_rng(1)\n",
    "\n",
    "x = rng.normal(size=100)\n",
    "\n",
    "def hist(x, offset, **kwargs):\n",
    "    ws, xedges = np.histogram(x)\n",
    "    \n",
    "    m = len(ws)\n",
    "    n = 2 * m + 2\n",
    "\n",
    "    xy = np.zeros((2, n))\n",
    "\n",
    "    xy[0][0] = xedges[0]\n",
    "    xy[0][-1] = xedges[-1]\n",
    "\n",
    "    for i in range(m):\n",
    "        xy[0][1 + 2 * i] = xedges[i]\n",
    "        xy[1][1 + 2 * i] = ws[i]\n",
    "        xy[0][1 + 2 * i + 1] = xedges[i + 1]\n",
    "        xy[1][1 + 2 * i + 1] = ws[i]\n",
    "\n",
    "    x, y = xy\n",
    "    return plt.gca().fill_between(x, offset, y + offset, **kwargs)\n",
    "\n",
    "fig, ax = plt.subplots(1, 2, figsize=(16, 8), sharex=True)\n",
    "plt.sca(ax[0])\n",
    "plt.title(\"original sample\")\n",
    "hist(x, 0)\n",
    "plt.plot(np.mean(x) * np.ones(2), [0, 30], color=\"k\")\n",
    "\n",
    "plt.sca(ax[1])\n",
    "plt.title(\"bootstrap replicas\")\n",
    "for i, replica in enumerate(resample.bootstrap.resample(x, size=10, random_state=rng)):\n",
    "    hist(replica, 30 * i)\n",
    "    plt.plot(np.mean(replica) * np.ones(2), [30 * i, 30 * (i + 1)], color=\"k\")"
   ]
  },
  {
   "cell_type": "markdown",
   "metadata": {},
   "source": [
    "* Bootstrap not deterministic\n",
    "* Uses samples generated from pseudo-random number generator and original data\n",
    "* Accuracy can be traded against computation time by increasing number of bootstrapped samples\n",
    "\n",
    "Let's repeat the study of bias and variance of several estimators with the bootstrap."
   ]
  },
  {
   "cell_type": "code",
   "execution_count": 8,
   "metadata": {},
   "outputs": [
    {
     "name": "stdout",
     "output_type": "stream",
     "text": [
      "sample values\n",
      "  mean       = 1.038\n",
      "  median     = 0.687\n",
      "  var        = 1.541\n",
      "bootstrapped biases with 10 replicas\n",
      "  mean       = 0.000\n",
      "  median     = 0.005\n",
      "  var        = -0.008\n",
      "bootstrapped biases with 1000 replicas\n",
      "  mean       = 0.000\n",
      "  median     = 0.000\n",
      "  var        = -0.015\n",
      "exact bias of var = -1/(n-1) * var = -0.016\n"
     ]
    }
   ],
   "source": [
    "rng = np.random.default_rng(1)\n",
    "\n",
    "n_sample = 100\n",
    "x = rng.exponential(size=n_sample)\n",
    "\n",
    "estimators = {\n",
    "    \"mean\": np.mean,\n",
    "    \"median\": np.median,\n",
    "    # intentionally use biased variance estimator\n",
    "    \"var\": lambda x : np.mean((x - np.mean(x)) ** 2)\n",
    "}\n",
    "\n",
    "print(\"sample values\")\n",
    "for name, est in estimators.items():\n",
    "    v = est(x)\n",
    "    print(f\"  {name:10} = {v:.3f}\") \n",
    "\n",
    "print(\"bootstrapped biases with 10 replicas\")\n",
    "for name, est in estimators.items():\n",
    "    v = resample.bootstrap.bias(est, x, size=10, random_state=rng)\n",
    "    print(f\"  {name:10} = {v:.3f}\")\n",
    "\n",
    "\n",
    "print(\"bootstrapped biases with 1000 replicas\")\n",
    "for name, est in estimators.items():\n",
    "    v = resample.bootstrap.bias(est, x, size=1000, random_state=rng)\n",
    "    print(f\"  {name:10} = {v:.3f}\")\n",
    "    \n",
    "print(f\"exact bias of var = -1/(n-1) * var = {-1/(n_sample-1) * estimators['var'](x):.3f}\")"
   ]
  },
  {
   "cell_type": "markdown",
   "metadata": {},
   "source": [
    "Again, the bias is very well estimated."
   ]
  },
  {
   "cell_type": "code",
   "execution_count": 9,
   "metadata": {},
   "outputs": [
    {
     "name": "stdout",
     "output_type": "stream",
     "text": [
      "bootstrapped std. deviations of estimators\n",
      "  mean       = 0.126\n",
      "  median     = 0.080\n",
      "  var        = 0.600\n",
      "textbook std. deviation of mean   = 0.124\n",
      "textbook std. deviation of median = 0.101\n",
      "textbook std. deviation of var    = 0.606\n"
     ]
    }
   ],
   "source": [
    "rng = np.random.default_rng(1)\n",
    "\n",
    "def variance_of_mean(x):\n",
    "    n = len(x)\n",
    "    return np.var(x) / n\n",
    "\n",
    "def variance_of_variance(x):\n",
    "    # see e.g. https://math.stackexchange.com/questions/72975/variance-of-sample-variance\n",
    "    n = len(x)\n",
    "    u = np.mean(x)\n",
    "    s = np.std(x)\n",
    "    u4 = np.mean((x - u)**4)\n",
    "    return (u4 - s ** 4 * (n - 3) / (n - 1)) / n\n",
    "\n",
    "def variance_of_median(x):\n",
    "    # see https://en.wikipedia.org/wiki/Median, original derivation by Laplace\n",
    "    mu = np.mean(x)\n",
    "    m = np.median(x)\n",
    "    # value of exponential density for this sample at median\n",
    "    fm = 1/mu * np.exp(-m / mu)\n",
    "    n = len(x)\n",
    "    return 1/(4 * n * fm ** 2)\n",
    "\n",
    "print(\"bootstrapped std. deviations of estimators\")\n",
    "for name, est in estimators.items():\n",
    "    v = resample.bootstrap.variance(est, x, size=2000, random_state=rng) ** 0.5\n",
    "    print(f\"  {name:10} = {v:.3f}\")\n",
    "\n",
    "print(f\"textbook std. deviation of mean   = {variance_of_mean(x) ** 0.5:.3f}\")\n",
    "print(f\"textbook std. deviation of median = {variance_of_median(x) ** 0.5:.3f}\")\n",
    "print(f\"textbook std. deviation of var    = {variance_of_variance(x) ** 0.5:.3f}\")"
   ]
  },
  {
   "cell_type": "markdown",
   "metadata": {},
   "source": [
    "The uncertainties are all very close to the textbook estimates, including the uncertainty of the median!\n",
    "\n",
    "We can also compute confidence intervals. The library includes three methods."
   ]
  },
  {
   "cell_type": "code",
   "execution_count": 11,
   "metadata": {},
   "outputs": [
    {
     "data": {
      "image/png": "[encoded data removed]",
      "text/plain": [
       "<Figure size 1008x288 with 1 Axes>"
      ]
     },
     "metadata": {
      "needs_background": "light"
     },
     "output_type": "display_data"
    }
   ],
   "source": [
    "rng = np.random.default_rng(1)\n",
    "\n",
    "plt.figure(figsize=(14, 4))\n",
    "\n",
    "plt.hist(x, bins=20)\n",
    "\n",
    "plt.axvline(np.mean(x), color=\"C3\", lw=3, label=\"mean\")\n",
    "\n",
    "for i, ci_method in enumerate((\"percentile\", \"student\", \"bca\")):\n",
    "    ci = resample.bootstrap.confidence_interval(np.mean, x, ci_method=ci_method, random_state=rng)\n",
    "    for cii in ci:\n",
    "        plt.axvline(cii, ls=[\"--\", \":\", \"-.\"][i], color=f\"C{i}\", label=ci_method if cii is ci[0] else None)\n",
    "\n",
    "plt.xlim(0, 5)\n",
    "plt.title(\"sample mean with 95 % confidence intervals, computed with several methods based on bootstrapping\")\n",
    "plt.legend();"
   ]
  },
  {
   "cell_type": "markdown",
   "metadata": {},
   "source": [
    "Confidence interval computation methods in order of increasing sophistication:\n",
    "* percentile: straight-forward quantiles of the replicated $\\hat\\theta_i$\n",
    "* student: quantiles of studentized replicated $\\hat\\theta_i$\n",
    "* bca: Stands for bias-corrected and accelerated\n",
    "  * Corrects biases of order $O(1/n)$ in quantiles\n",
    "  * Accelerates convergence of bootstrap replication with something alike to [Richardson extrapolation](https://en.wikipedia.org/wiki/Richardson_extrapolation)"
   ]
  },
  {
   "cell_type": "markdown",
   "metadata": {},
   "source": [
    "### Summary: Bootstrap\n",
    "\n",
    "* Non-deterministic resampling method\n",
    "    * Non-parametric or\n",
    "    * Parametric\n",
    "* Computational cost is $O(n  k)$ with sample size $n$ and $k$ replicated samples\n",
    "* Accuracy can be traded against computation time\n",
    "    * Good for prototyping\n",
    "* More efficient than jackknife for large data sets ($n > 100$)\n",
    "* Can be used to compute bias & variance of arbitrary estimators\n",
    "    * Including non-smooth ones (e.g. median)\n",
    "* Good results even for small samples\n",
    "* Non-parametric bootstrap fails for estimators very sensitive to tails\n",
    "* 95 % intervals ok, but 5 sigma intervals?\n",
    "\n",
    "  https://abload.de/img/house-shrugh0seu.gif\n",
    "\n",
    "\n",
    "## Note on uncertainties of resampling methods\n",
    "\n",
    "* In applications: need to know accuracy of bootstrap/jackknife estimates\n",
    "* Resampling uncertainty (only bootstrap)\n",
    "    * Can be made negligible by increasing $k$, number of replicated samples\n",
    "    * $\\text{var} \\propto 1/k$\n",
    "        * 10% for $k=100$\n",
    "        * 3% for $k=1000$\n",
    "    * Can be empirically assessed by re-calculating a few times\n",
    "* Uncertainty from approximating $F$ by $\\hat F$ (valid for bootstrap and jackknife)\n",
    "    * Estimate with second-order jackknife or bootstrap\n",
    "        * Double bootstrap\n",
    "        * Jackknife-after-bootstrap"
   ]
  },
  {
   "cell_type": "markdown",
   "metadata": {},
   "source": [
    "## Not covered\n",
    "\n",
    "* parametric bootstrap, just use e.g. `resample.bootstrap.resample(sample, method=\"normal\")`\n",
    "* Hypothesis tests with resampling methods\n",
    "* `resample.permutation` Hypothesis tests based on data permutation"
   ]
  },
  {
   "cell_type": "markdown",
   "metadata": {},
   "source": [
    "## Roadmap for resample-1.0.0\n",
    "\n",
    "* Interface overhaul (nearly complete)\n",
    "* Adding documentation (ongoing)\n",
    "* Adding more tests (ongoing)"
   ]
  },
  {
   "cell_type": "code",
   "execution_count": null,
   "metadata": {},
   "outputs": [],
   "source": []
  }
 ],
 "metadata": {
  "kernelspec": {
   "display_name": "Python 3",
   "language": "python",
   "name": "python3"
  },
  "language_info": {
   "codemirror_mode": {
    "name": "ipython",
    "version": 3
   },
   "file_extension": ".py",
   "mimetype": "text/x-python",
   "name": "python",
   "nbconvert_exporter": "python",
   "pygments_lexer": "ipython3",
   "version": "3.8.3"
  }
 },
 "nbformat": 4,
 "nbformat_minor": 4
}
